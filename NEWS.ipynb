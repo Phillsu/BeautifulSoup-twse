{
 "cells": [
  {
   "cell_type": "code",
   "execution_count": 46,
   "metadata": {},
   "outputs": [],
   "source": [
    "\n",
    "import requests \n",
    "from bs4 import BeautifulSoup\n",
    "import pandas as pd\n",
    "import re"
   ]
  },
  {
   "cell_type": "code",
   "execution_count": 77,
   "metadata": {},
   "outputs": [],
   "source": [
    "url = 'https://tw.appledaily.com/home'\n",
    "r = requests.get(url)\n",
    "web_content = r.text\n",
    "soup = BeautifulSoup(web_content,'lxml')"
   ]
  },
  {
   "cell_type": "code",
   "execution_count": 93,
   "metadata": {},
   "outputs": [
    {
     "name": "stdout",
     "output_type": "stream",
     "text": [
      "[<div class=\"flex-feature\"><a class=\"story-card\" href=\"/life/20210601/2EUILOQJ2NHDZGNYKSNAAUWMWQ/\"><div class=\"image-container\"><figure><div class=\"image-container\" style=\"background-color:gainsboro\"><figure><img alt=\"某全國聯鎖早餐店高雄某分店今晚在官網貼出今起暫停營業14天，貼文者自稱是店長指自己連同家人已4人確診」，不過之後迅速被刪除。讀者提供\" src=\"/pf/resources/images/icons/tw-appledaily/no_image.png?d=229\" style=\"height:auto;width:100%\"/></figure></div></figure><div class=\"box--hidden\"><div class=\"video-triangle-container\"><div class=\"video-triangle\"></div></div></div></div><div class=\"text-container box--margin-left-md box--margin-right-md\"><div class=\"grid flex text_brownish-grey font-size--13\"><div class=\"timestamp\">出版時間: 2021/06/01 23:21</div></div><div class=\"storycard-headline text_greyish-brown-two\"><span class=\"headline truncate truncate--3\">獨家｜連鎖早餐店長自爆全家4人確診　向這10天來客致歉</span></div></div></a></div>, <div class=\"flex-feature\"><a class=\"story-card\" href=\"/property/20210601/B4V62JFH2BC6PDI6OUUBKGCZCI/\"><div class=\"image-container\"><figure><div class=\"image-container\" style=\"background-color:gainsboro\"><figure><img alt=\"上市公司去年平均年薪排行。\" src=\"/pf/resources/images/icons/tw-appledaily/no_image.png?d=229\" style=\"height:auto;width:100%\"/></figure></div></figure><div class=\"box--hidden\"><div class=\"video-triangle-container\"><div class=\"video-triangle\"></div></div></div></div><div class=\"text-container box--margin-left-md box--margin-right-md\"><div class=\"grid flex text_brownish-grey font-size--13\"><div class=\"timestamp\">出版時間: 2021/06/01 17:11</div></div><div class=\"storycard-headline text_greyish-brown-two\"><span class=\"headline truncate truncate--3\">上市公司員工去年薪資排行出爐！這公司年領419萬居冠　台積電239萬排18名</span></div></div></a></div>, <div class=\"flex-feature\"><a class=\"story-card\" href=\"/politics/20210601/FUCEF7XZ6VEDJLOWLK3GXUIB3E/\"><div class=\"image-container\"><figure><div class=\"image-container\" style=\"background-color:gainsboro\"><figure><img alt=\"對於台北市長柯文哲批，高端股價跌停小英才出來開記者會，總統府晚間發表5點聲明，強調口水無助防疫。資料照片\" src=\"/pf/resources/images/icons/tw-appledaily/no_image.png?d=229\" style=\"height:auto;width:100%\"/></figure></div></figure><div class=\"box--hidden\"><div class=\"video-triangle-container\"><div class=\"video-triangle\"></div></div></div></div><div class=\"text-container box--margin-left-md box--margin-right-md\"><div class=\"grid flex text_brownish-grey font-size--13\"><div class=\"timestamp\">出版時間: 2021/06/01 19:54</div></div><div class=\"storycard-headline text_greyish-brown-two\"><span class=\"headline truncate truncate--3\">柯文哲一句「蔡英文高端跌停才出來」　總統府898字聲明反擊了</span></div></div></a></div>, <div class=\"flex-feature after-ad\"><a class=\"story-card\" href=\"/life/20210601/OHU4M2UJ2ZHIXF7QF2PN3DIJIM/\"><div class=\"image-container\"><figure><div class=\"image-container\" style=\"background-color:gainsboro\"><figure><img alt=\"missing promo\" src=\"/pf/resources/images/icons/tw-appledaily/no_image.png?d=229\" style=\"height:auto;width:100%\"/></figure></div></figure><div class=\"video-icon\"><div class=\"video-triangle-container\"><div class=\"video-triangle\"></div></div></div></div><div class=\"text-container box--margin-left-md box--margin-right-md\"><div class=\"grid flex text_brownish-grey font-size--13\"><div class=\"timestamp\">出版時間: 2021/06/01 23:59</div></div><div class=\"storycard-headline text_greyish-brown-two\"><span class=\"headline truncate truncate--3\">假消息竟一語成讖！　陳其邁端午節前率先喊話：北漂遊子別回家</span></div></div></a></div>, <div class=\"flex-feature\"><a class=\"story-card\" href=\"/life/20210601/KJXVKZ7FJZHNPNQCM6XE73RDSU/\"><div class=\"image-container\"><figure><div class=\"image-container\" style=\"background-color:gainsboro\"><figure><img alt=\"「486團購」公司創辦人陳延昶給員工福利毫不手軟，是網友心中的佛心老闆。資料照片（業者提供）\" src=\"/pf/resources/images/icons/tw-appledaily/no_image.png?d=229\" style=\"height:auto;width:100%\"/></figure></div></figure><div class=\"box--hidden\"><div class=\"video-triangle-container\"><div class=\"video-triangle\"></div></div></div></div><div class=\"text-container box--margin-left-md box--margin-right-md\"><div class=\"grid flex text_brownish-grey font-size--13\"><div class=\"timestamp\">出版時間: 2021/06/01 15:07</div></div><div class=\"storycard-headline text_greyish-brown-two\"><span class=\"headline truncate truncate--3\">全公司在家上班付全薪！親戚都想來　486先生：直接拒絕不錄用</span></div></div></a></div>, <div class=\"flex-feature\"><a class=\"story-card\" href=\"/life/20210602/NX3K3EAI7NFDFDWRYPXYDI2PT4/\"><div class=\"image-container\"><figure><div class=\"image-container\" style=\"background-color:gainsboro\"><figure><img alt=\"missing promo\" src=\"/pf/resources/images/icons/tw-appledaily/no_image.png?d=229\" style=\"height:auto;width:100%\"/></figure></div></figure><div class=\"video-icon\"><div class=\"video-triangle-container\"><div class=\"video-triangle\"></div></div></div></div><div class=\"text-container box--margin-left-md box--margin-right-md\"><div class=\"grid flex text_brownish-grey font-size--13\"><div class=\"timestamp\">出版時間: 2021/06/02 00:14</div></div><div class=\"storycard-headline text_greyish-brown-two\"><span class=\"headline truncate truncate--3\">獨家｜紓困金來了！160萬人有機會　3原則定調：領的人增多、門檻降低、錢變少於3萬</span></div></div></a></div>, <div class=\"flex-feature\"><a class=\"story-card\" href=\"/politics/20210601/KZX3JYDURZH7PHP7TJNCBG5TCM/\"><div class=\"image-container\"><figure><div class=\"image-container\" style=\"background-color:gainsboro\"><figure><img alt=\"疫情指揮中心專家小組諮詢委員李秉穎。黃世宏攝\" src=\"/pf/resources/images/icons/tw-appledaily/no_image.png?d=229\" style=\"height:auto;width:100%\"/></figure></div></figure><div class=\"box--hidden\"><div class=\"video-triangle-container\"><div class=\"video-triangle\"></div></div></div></div><div class=\"text-container box--margin-left-md box--margin-right-md\"><div class=\"grid flex text_brownish-grey font-size--13\"><div class=\"timestamp\">出版時間: 2021/06/01 21:42</div></div><div class=\"storycard-headline text_greyish-brown-two\"><span class=\"headline truncate truncate--3\">爆郭董BNT疫苗「聽說快過期」　李秉穎改稱：是口誤</span></div></div></a></div>, <div class=\"flex-feature\"><a class=\"story-card\" href=\"/property/20210601/DODUXTN22BFZVCWSOORBIDTL2E/\"><div class=\"image-container\"><figure><div class=\"image-container\" style=\"background-color:gainsboro\"><figure><img alt=\"雲林縣與德商wpd達德能源集團執行董事柯朗夫(Ralf Ketteler)簽署合作備忘錄。雲林縣政府提供\" src=\"/pf/resources/images/icons/tw-appledaily/no_image.png?d=229\" style=\"height:auto;width:100%\"/></figure></div></figure><div class=\"box--hidden\"><div class=\"video-triangle-container\"><div class=\"video-triangle\"></div></div></div></div><div class=\"text-container box--margin-left-md box--margin-right-md\"><div class=\"grid flex text_brownish-grey font-size--13\"><div class=\"timestamp\">出版時間: 2021/06/01 21:28</div></div><div class=\"storycard-headline text_greyish-brown-two\"><span class=\"headline truncate truncate--3\">獨家｜驚！離岸風電外商竟以破產為由出售股權　經部被迫放行</span></div></div></a></div>, <div class=\"flex-feature\"><a class=\"story-card\" href=\"/local/20210602/Q57UEDDADBEATHGDPDD5YR4LIM/\"><div class=\"image-container\"><figure><div class=\"image-container\" style=\"background-color:gainsboro\"><figure><img alt=\"王薇君比出中指，抨擊黃昭順、朱學恒和砍傷醫護的確診者。翻攝自王薇君的臉書\" src=\"/pf/resources/images/icons/tw-appledaily/no_image.png?d=229\" style=\"height:auto;width:100%\"/></figure></div></figure><div class=\"box--hidden\"><div class=\"video-triangle-container\"><div class=\"video-triangle\"></div></div></div></div><div class=\"text-container box--margin-left-md box--margin-right-md\"><div class=\"grid flex text_brownish-grey font-size--13\"><div class=\"timestamp\">出版時間: 2021/06/02 00:16</div></div><div class=\"storycard-headline text_greyish-brown-two\"><span class=\"headline truncate truncate--3\">王薇君怒比中指開嗆這3人　「從疫情看見人性之惡」</span></div></div></a></div>, <div class=\"flex-feature\"><a class=\"story-card\" href=\"/life/20210601/FM2HPZAZXVHP5PAD4HIYI272HQ/\"><div class=\"image-container\"><figure><div class=\"image-container\" style=\"background-color:gainsboro\"><figure><img alt=\"市場預估，郭台銘這次引進BNT疫苗500萬劑，若只估算出口價，就要高達45億元。合成照片\" src=\"/pf/resources/images/icons/tw-appledaily/no_image.png?d=229\" style=\"height:auto;width:100%\"/></figure></div></figure><div class=\"box--hidden\"><div class=\"video-triangle-container\"><div class=\"video-triangle\"></div></div></div></div><div class=\"text-container box--margin-left-md box--margin-right-md\"><div class=\"grid flex text_brownish-grey font-size--13\"><div class=\"timestamp\">出版時間: 2021/06/01 12:28</div></div><div class=\"storycard-headline text_greyish-brown-two\"><span class=\"headline truncate truncate--3\">疫苗進口大轉彎？他說全因菅義偉、星雲和郭台銘「蔡英文得罪不起」</span></div></div></a></div>, <div class=\"flex-feature\"><a class=\"story-card\" href=\"/life/20210601/4USU4RF5J5EZZC5XRP2P5XUOSE/\"><div class=\"image-container\"><figure><div class=\"image-container\" style=\"background-color:gainsboro\"><figure><img alt=\"高雄大寮染疫家族被屏東牌友傳染，已先後有七人發病。高市衛生局提供\" src=\"/pf/resources/images/icons/tw-appledaily/no_image.png?d=229\" style=\"height:auto;width:100%\"/></figure></div></figure><div class=\"box--hidden\"><div class=\"video-triangle-container\"><div class=\"video-triangle\"></div></div></div></div><div class=\"text-container box--margin-left-md box--margin-right-md\"><div class=\"grid flex text_brownish-grey font-size--13\"><div class=\"timestamp\">出版時間: 2021/06/01 22:13</div></div><div class=\"storycard-headline text_greyish-brown-two\"><span class=\"headline truncate truncate--3\">高雄疫情｜大寮家族第7人發病　連鎖早餐店入夜自爆確診！官網致歉來客將被快篩</span></div></div></a></div>, <div class=\"flex-feature\"><a class=\"story-card\" href=\"/politics/20210601/357NTAE4YZDFBND33JXZSUQV2Q/\"><div class=\"image-container\"><figure><div class=\"image-container\" style=\"background-color:gainsboro\"><figure><img alt=\"總統蔡英文。總統府提供\" src=\"/pf/resources/images/icons/tw-appledaily/no_image.png?d=229\" style=\"height:auto;width:100%\"/></figure></div></figure><div class=\"box--hidden\"><div class=\"video-triangle-container\"><div class=\"video-triangle\"></div></div></div></div><div class=\"text-container box--margin-left-md box--margin-right-md\"><div class=\"grid flex text_brownish-grey font-size--13\"><div class=\"timestamp\">出版時間: 2021/06/01 20:13</div></div><div class=\"storycard-headline text_greyish-brown-two\"><span class=\"headline truncate truncate--3\">為何願打國產疫苗？　黃暐瀚：總統都敢打了，我有什麼好怕</span></div></div></a></div>, <div class=\"flex-feature\"><a class=\"story-card\" href=\"/life/20210601/DAUXP3YOLBGJBJAYT5GIPRUEUM/\"><div class=\"image-container\"><figure><div class=\"image-container\" style=\"background-color:gainsboro\"><figure><img alt=\"missing promo\" src=\"/pf/resources/images/icons/tw-appledaily/no_image.png?d=229\" style=\"height:auto;width:100%\"/></figure></div></figure><div class=\"video-icon\"><div class=\"video-triangle-container\"><div class=\"video-triangle\"></div></div></div></div><div class=\"text-container box--margin-left-md box--margin-right-md\"><div class=\"grid flex text_brownish-grey font-size--13\"><div class=\"timestamp\">出版時間: 2021/06/01 21:00</div></div><div class=\"storycard-headline text_greyish-brown-two\"><span class=\"headline truncate truncate--3\">新北疫情｜紓困小確幸周五入帳　7萬4千戶受惠  </span></div></div></a></div>, <div class=\"flex-feature\"><a class=\"story-card\" href=\"/politics/20210601/BBROHCTKDFBTLK43Z3RPCFK3PM/\"><div class=\"image-container\"><figure><div class=\"image-container\" style=\"background-color:gainsboro\"><figure><img alt=\"名嘴朱學恒今送4座花籃到中央流行疫情指揮中心。讀者提供\" src=\"/pf/resources/images/icons/tw-appledaily/no_image.png?d=229\" style=\"height:auto;width:100%\"/></figure></div></figure><div class=\"box--hidden\"><div class=\"video-triangle-container\"><div class=\"video-triangle\"></div></div></div></div><div class=\"text-container box--margin-left-md box--margin-right-md\"><div class=\"grid flex text_brownish-grey font-size--13\"><div class=\"timestamp\">出版時間: 2021/06/01 22:16</div></div><div class=\"storycard-headline text_greyish-brown-two\"><span class=\"headline truncate truncate--3\">宅神送花籃嗆指揮中心　台灣基進：黃泉之下，有很多人看著你的！</span></div></div></a></div>, <div class=\"flex-feature\"><a class=\"story-card\" href=\"/international/20210601/VKHKQ3NY55DWDOIN4GJRDT3HSU/\"><div class=\"image-container\"><figure><div class=\"image-container\" style=\"background-color:gainsboro\"><figure><img alt=\"輝瑞-BNT新冠肺炎疫苗。法新社\" src=\"/pf/resources/images/icons/tw-appledaily/no_image.png?d=229\" style=\"height:auto;width:100%\"/></figure></div></figure><div class=\"box--hidden\"><div class=\"video-triangle-container\"><div class=\"video-triangle\"></div></div></div></div><div class=\"text-container box--margin-left-md box--margin-right-md\"><div class=\"grid flex text_brownish-grey font-size--13\"><div class=\"timestamp\">出版時間: 2021/06/01 23:06</div></div><div class=\"storycard-headline text_greyish-brown-two\"><span class=\"headline truncate truncate--3\">6/1全球疫苗快訊｜世衛批准科興疫苗使用　AZ疫苗對英國變種病毒保護率逾90％　</span></div></div></a></div>, <div class=\"flex-feature\"><a class=\"story-card\" href=\"/international/20210601/2SRRF7X6HBGIJM2G5O5NCAVVKM/\"><div class=\"image-container\"><figure><div class=\"image-container\" style=\"background-color:gainsboro\"><figure><img alt=\"伊涅絲獨居的公寓外觀。\" src=\"/pf/resources/images/icons/tw-appledaily/no_image.png?d=229\" style=\"height:auto;width:100%\"/></figure></div></figure><div class=\"box--hidden\"><div class=\"video-triangle-container\"><div class=\"video-triangle\"></div></div></div></div><div class=\"text-container box--margin-left-md box--margin-right-md\"><div class=\"grid flex text_brownish-grey font-size--13\"><div class=\"timestamp\">出版時間: 2021/06/01 23:15</div></div><div class=\"storycard-headline text_greyish-brown-two\"><span class=\"headline truncate truncate--3\">獨居七旬婦病死三月屍臭瀰漫　腰部以上被寵物貓啃光</span></div></div></a></div>, <div class=\"flex-feature\"><a class=\"story-card\" href=\"/life/20210601/UX5HF7BXGNE7TIYIJGWNIU3COM/\"><div class=\"image-container\"><figure><div class=\"image-container\" style=\"background-color:gainsboro\"><figure><img alt=\"張亞中。資料照片\" src=\"/pf/resources/images/icons/tw-appledaily/no_image.png?d=229\" style=\"height:auto;width:100%\"/></figure></div></figure><div class=\"box--hidden\"><div class=\"video-triangle-container\"><div class=\"video-triangle\"></div></div></div></div><div class=\"text-container box--margin-left-md box--margin-right-md\"><div class=\"grid flex text_brownish-grey font-size--13\"><div class=\"timestamp\">出版時間: 2021/06/01 20:22</div></div><div class=\"storycard-headline text_greyish-brown-two\"><span class=\"headline truncate truncate--3\">疫苗申請函僅百字就要打通關　網友傻眼：是當聖旨哦</span></div></div></a></div>, <div class=\"flex-feature\"><a class=\"story-card\" href=\"/life/20210602/BJ2WXMH6JJABRIIW52WQ7STL6A/\"><div class=\"image-container\"><figure><div class=\"image-container\" style=\"background-color:gainsboro\"><figure><img alt=\"文化大學師生擔心，宿舍共用衛浴間恐導致病毒傳播。資料照片\" src=\"/pf/resources/images/icons/tw-appledaily/no_image.png?d=229\" style=\"height:auto;width:100%\"/></figure></div></figure><div class=\"box--hidden\"><div class=\"video-triangle-container\"><div class=\"video-triangle\"></div></div></div></div><div class=\"text-container box--margin-left-md box--margin-right-md\"><div class=\"grid flex text_brownish-grey font-size--13\"><div class=\"timestamp\">出版時間: 2021/06/02 00:13</div></div><div class=\"storycard-headline text_greyish-brown-two\"><span class=\"headline truncate truncate--3\">獨家｜天龍最高學府4人群聚！無症狀感染走遍宿舍　300生共用衛浴恐中招</span></div></div></a></div>, <div class=\"flex-feature\"><a class=\"story-card\" href=\"/international/20210601/IUWBGBGXJRHCJDLELQXRK7EHUE/\"><div class=\"image-container\"><figure><div class=\"image-container\" style=\"background-color:gainsboro\"><figure><img alt=\"澳洲少女貝莉 （右圖）在拿取生菜時，發現正在與袋中的小樹蛙對望。翻攝《Daily Mail Australia》\" src=\"/pf/resources/images/icons/tw-appledaily/no_image.png?d=229\" style=\"height:auto;width:100%\"/></figure></div></figure><div class=\"box--hidden\"><div class=\"video-triangle-container\"><div class=\"video-triangle\"></div></div></div></div><div class=\"text-container box--margin-left-md box--margin-right-md\"><div class=\"grid flex text_brownish-grey font-size--13\"><div class=\"timestamp\">出版時間: 2021/06/01 22:46</div></div><div class=\"storycard-headline text_greyish-brown-two\"><span class=\"headline truncate truncate--3\">頭皮發麻！生菜吃了3天　正妹驚見袋中青蛙與她對望</span></div></div></a></div>, <div class=\"flex-feature\"><a class=\"story-card\" href=\"/life/20210602/JMN6JZXMPJCQXDNLW37IVNTKBE/\"><div class=\"image-container\"><figure><div class=\"image-container\" style=\"background-color:gainsboro\"><figure><img alt=\"鴻海與永齡基金會專案申請疫苗進口。永齡提供\" src=\"/pf/resources/images/icons/tw-appledaily/no_image.png?d=229\" style=\"height:auto;width:100%\"/></figure></div></figure><div class=\"box--hidden\"><div class=\"video-triangle-container\"><div class=\"video-triangle\"></div></div></div></div><div class=\"text-container box--margin-left-md box--margin-right-md\"><div class=\"grid flex text_brownish-grey font-size--13\"><div class=\"timestamp\">出版時間: 2021/06/02 00:22</div></div><div class=\"storycard-headline text_greyish-brown-two\"><span class=\"headline truncate truncate--3\">獨家｜郭台銘出手！八大關鍵文件速備齊　陳時中接招拼3天審查</span></div></div></a></div>, <div class=\"flex-feature\"><a class=\"story-card\" href=\"/local/20210601/33AUDVIZL5CVZHZRCHDRXC3FBA/\"><div class=\"image-container\"><figure><div class=\"image-container\" style=\"background-color:gainsboro\"><figure><img alt=\"missing promo\" src=\"/pf/resources/images/icons/tw-appledaily/no_image.png?d=229\" style=\"height:auto;width:100%\"/></figure></div></figure><div class=\"video-icon\"><div class=\"video-triangle-container\"><div class=\"video-triangle\"></div></div></div></div><div class=\"text-container box--margin-left-md box--margin-right-md\"><div class=\"grid flex text_brownish-grey font-size--13\"><div class=\"timestamp\">出版時間: 2021/06/01 18:25</div></div><div class=\"storycard-headline text_greyish-brown-two\"><span class=\"headline truncate truncate--3\">確診者砍3醫護｜惡男狂言「有留活命給她們很好了！」　網斥畜生不如醫怒籲嚴懲</span></div></div></a></div>, <div class=\"flex-feature\"><a class=\"story-card\" href=\"/life/20210601/WTGJLDKPFJFC3DOXCMDB3NO2DI/\"><div class=\"image-container\"><figure><div class=\"image-container\" style=\"background-color:gainsboro\"><figure><img alt=\"資料圖片\" src=\"/pf/resources/images/icons/tw-appledaily/no_image.png?d=229\" style=\"height:auto;width:100%\"/></figure></div></figure><div class=\"box--hidden\"><div class=\"video-triangle-container\"><div class=\"video-triangle\"></div></div></div></div><div class=\"text-container box--margin-left-md box--margin-right-md\"><div class=\"grid flex text_brownish-grey font-size--13\"><div class=\"timestamp\">出版時間: 2021/06/01 21:13</div></div><div class=\"storycard-headline text_greyish-brown-two\"><span class=\"headline truncate truncate--3\">鴻海採購德製BNT疫苗　上海復星獨家代理晾一邊　</span></div></div></a></div>, <div class=\"flex-feature\"><a class=\"story-card\" href=\"/life/20210601/LY35KP4YTBFIRGAUNJUZHMPTQA/\"><div class=\"image-container\"><figure><div class=\"image-container\" style=\"background-color:gainsboro\"><figure><img alt=\"missing promo\" src=\"/pf/resources/images/icons/tw-appledaily/no_image.png?d=229\" style=\"height:auto;width:100%\"/></figure></div></figure><div class=\"video-icon\"><div class=\"video-triangle-container\"><div class=\"video-triangle\"></div></div></div></div><div class=\"text-container box--margin-left-md box--margin-right-md\"><div class=\"grid flex text_brownish-grey font-size--13\"><div class=\"timestamp\">出版時間: 2021/06/01 19:36</div></div><div class=\"storycard-headline text_greyish-brown-two\"><span class=\"headline truncate truncate--3\">德基水庫水位升4公尺進帳快翻倍　久違溪水回來了！軍民開車搶接山泉</span></div></div></a></div>, <div class=\"flex-feature\"><a class=\"story-card\" href=\"/life/20210601/YGKCBIM3DREHTLEHXNEZEJVEUA/\"><div class=\"image-container\"><figure><div class=\"image-container\" style=\"background-color:gainsboro\"><figure><img alt=\"指揮中心專家小組諮詢委員、台大醫師李秉穎。資料照\" src=\"/pf/resources/images/icons/tw-appledaily/no_image.png?d=229\" style=\"height:auto;width:100%\"/></figure></div></figure><div class=\"box--hidden\"><div class=\"video-triangle-container\"><div class=\"video-triangle\"></div></div></div></div><div class=\"text-container box--margin-left-md box--margin-right-md\"><div class=\"grid flex text_brownish-grey font-size--13\"><div class=\"timestamp\">出版時間: 2021/06/01 16:37</div></div><div class=\"storycard-headline text_greyish-brown-two\"><span class=\"headline truncate truncate--3\">國產疫苗輸國外疫苗？權威醫7點釋疑　爆郭董BNT疫苗「聽說快過期」</span></div></div></a></div>, <div class=\"flex-feature\"><a class=\"story-card\" href=\"/local/20210601/3XDM3UHLJ5DRDNXUWH2HI2H62I/\"><div class=\"image-container\"><figure><div class=\"image-container\" style=\"background-color:gainsboro\"><figure><img alt=\"幫幫寶網站目前稱已停止營運。翻攝幫幫寶網站\" src=\"/pf/resources/images/icons/tw-appledaily/no_image.png?d=229\" style=\"height:auto;width:100%\"/></figure></div></figure><div class=\"box--hidden\"><div class=\"video-triangle-container\"><div class=\"video-triangle\"></div></div></div></div><div class=\"text-container box--margin-left-md box--margin-right-md\"><div class=\"grid flex text_brownish-grey font-size--13\"><div class=\"timestamp\">出版時間: 2021/06/01 20:41</div></div><div class=\"storycard-headline text_greyish-brown-two\"><span class=\"headline truncate truncate--3\">驚！淘寶代付網「幫幫寶」地下匯兌700億　主嫌曾當警察</span></div></div></a></div>, <div class=\"flex-feature\"><a class=\"story-card\" href=\"/property/20210601/LFHEIVJGLBCL5AVQ5GBLZH66KY/\"><div class=\"image-container\"><figure><div class=\"image-container\" style=\"background-color:gainsboro\"><figure><img alt=\"劉宥彤。資料照片\" src=\"/pf/resources/images/icons/tw-appledaily/no_image.png?d=229\" style=\"height:auto;width:100%\"/></figure></div></figure><div class=\"box--hidden\"><div class=\"video-triangle-container\"><div class=\"video-triangle\"></div></div></div></div><div class=\"text-container box--margin-left-md box--margin-right-md\"><div class=\"grid flex text_brownish-grey font-size--13\"><div class=\"timestamp\">出版時間: 2021/06/01 17:22</div></div><div class=\"storycard-headline text_greyish-brown-two\"><span class=\"headline truncate truncate--3\">遭台大醫指郭台銘疫苗快過期　劉宥彤爆氣4點反擊</span></div></div></a></div>, <div class=\"flex-feature\"><a class=\"story-card\" href=\"/life/20210602/K24MYIHEYZCPFETHNIZF5K3D2Y/\"><div class=\"image-container\"><figure><div class=\"image-container\" style=\"background-color:gainsboro\"><figure><img alt=\"天天要送確診病患的消防隊員也列入先打疫苗順位。嘉義縣府提供\" src=\"/pf/resources/images/icons/tw-appledaily/no_image.png?d=229\" style=\"height:auto;width:100%\"/></figure></div></figure><div class=\"box--hidden\"><div class=\"video-triangle-container\"><div class=\"video-triangle\"></div></div></div></div><div class=\"text-container box--margin-left-md box--margin-right-md\"><div class=\"grid flex text_brownish-grey font-size--13\"><div class=\"timestamp\">出版時間: 2021/06/02 00:13</div></div><div class=\"storycard-headline text_greyish-brown-two\"><span class=\"headline truncate truncate--3\">獨家｜3大門派聞聲救苦！慈濟拼下月買到疫苗　佛光山今洽嬌生原廠、紅會暗中探詢</span></div></div></a></div>, <div class=\"flex-feature\"><a class=\"story-card\" href=\"/life/20210601/T2PFD6WQIVCNJGD4PXVLUHUARM/\"><div class=\"image-container\"><figure><div class=\"image-container\" style=\"background-color:gainsboro\"><figure><img alt=\"missing promo\" src=\"/pf/resources/images/icons/tw-appledaily/no_image.png?d=229\" style=\"height:auto;width:100%\"/></figure></div></figure><div class=\"video-icon\"><div class=\"video-triangle-container\"><div class=\"video-triangle\"></div></div></div></div><div class=\"text-container box--margin-left-md box--margin-right-md\"><div class=\"grid flex text_brownish-grey font-size--13\"><div class=\"timestamp\">出版時間: 2021/06/01 12:43</div></div><div class=\"storycard-headline text_greyish-brown-two\"><span class=\"headline truncate truncate--3\">蘋果直擊｜南投一攤擠5人！分流買菜這市場沒在管　上午8點人滿為患</span></div></div></a></div>, <div class=\"flex-feature\"><a class=\"story-card\" href=\"/property/20210601/U2IZMJPQTJFQTPCHJ5XSDOEHIU/\"><div class=\"image-container\"><figure><div class=\"image-container\" style=\"background-color:gainsboro\"><figure><img alt=\"彰銀晴光分行2確診，力拼營運不中斷。讀者提供\" src=\"/pf/resources/images/icons/tw-appledaily/no_image.png?d=229\" style=\"height:auto;width:100%\"/></figure></div></figure><div class=\"box--hidden\"><div class=\"video-triangle-container\"><div class=\"video-triangle\"></div></div></div></div><div class=\"text-container box--margin-left-md box--margin-right-md\"><div class=\"grid flex text_brownish-grey font-size--13\"><div class=\"timestamp\">出版時間: 2021/06/01 13:46</div></div><div class=\"storycard-headline text_greyish-brown-two\"><span class=\"headline truncate truncate--3\">獨家直擊｜這銀行2確診照常開門　民眾見行員「全副武裝」嚇到：以為在醫院</span></div></div></a></div>, <div class=\"flex-feature\"><a class=\"story-card\" href=\"/local/20210601/CO5WW5ZTA5CXPGP4D4YJ3DQBVE/\"><div class=\"image-container\"><figure><div class=\"image-container\" style=\"background-color:gainsboro\"><figure><img alt=\"警方查獲5男1女群聚在房間內打麻將，當場開出告發通知單，並將案件函送衛生局裁罰。讀者提供\" src=\"/pf/resources/images/icons/tw-appledaily/no_image.png?d=229\" style=\"height:auto;width:100%\"/></figure></div></figure><div class=\"box--hidden\"><div class=\"video-triangle-container\"><div class=\"video-triangle\"></div></div></div></div><div class=\"text-container box--margin-left-md box--margin-right-md\"><div class=\"grid flex text_brownish-grey font-size--13\"><div class=\"timestamp\">出版時間: 2021/06/01 23:28</div></div><div class=\"storycard-headline text_greyish-brown-two\"><span class=\"headline truncate truncate--3\">不甩邁邁勸：要忍耐　5男1女躲朋友家中玩麻將被逮</span></div></div></a></div>, <div class=\"flex-feature\"><a class=\"story-card\" href=\"/life/20210602/BWTH56N4L5HD5IBVT42T3B2G5Q/\"><div class=\"image-container\"><figure><div class=\"image-container\" style=\"background-color:gainsboro\"><figure><img alt=\"專家指出，為加速施打可能在學校活動中心設快速接種站。林泊志攝\" src=\"/pf/resources/images/icons/tw-appledaily/no_image.png?d=229\" style=\"height:auto;width:100%\"/></figure></div></figure><div class=\"box--hidden\"><div class=\"video-triangle-container\"><div class=\"video-triangle\"></div></div></div></div><div class=\"text-container box--margin-left-md box--margin-right-md\"><div class=\"grid flex text_brownish-grey font-size--13\"><div class=\"timestamp\">出版時間: 2021/06/02 00:24</div></div><div class=\"storycard-headline text_greyish-brown-two\"><span class=\"headline truncate truncate--3\">獨家｜大規模接種計畫曝光！7天打100萬劑　徵召診所、學校活動中心設快速接種站　</span></div></div></a></div>, <div class=\"flex-feature\"><a class=\"story-card\" href=\"/life/20210602/JMN6JZXMPJCQXDNLW37IVNTKBE/\"><div class=\"image-container\"><figure><div class=\"image-container\" style=\"background-color:gainsboro\"><figure><img alt=\"鴻海與永齡基金會專案申請疫苗進口。永齡提供\" src=\"/pf/resources/images/icons/tw-appledaily/no_image.png?d=229\" style=\"height:auto;width:100%\"/></figure></div></figure><div class=\"box--hidden\"><div class=\"video-triangle-container\"><div class=\"video-triangle\"></div></div></div></div><div class=\"text-container box--margin-left-md box--margin-right-md\"><div class=\"grid flex text_brownish-grey font-size--13\"><div class=\"timestamp\">出版時間: 2021/06/02 00:22</div></div><div class=\"storycard-headline text_greyish-brown-two\"><span class=\"headline truncate truncate--3\">獨家｜郭台銘出手！八大關鍵文件速備齊　陳時中接招拼3天審查</span></div></div></a></div>, <div class=\"flex-feature\"><a class=\"story-card\" href=\"/property/20210602/NCDOWMF4GVFEDM4EZQBALUJRME/\"><div class=\"image-container\"><figure><div class=\"image-container\" style=\"background-color:gainsboro\"><figure><img alt=\"美國股市道瓊工業指數周二盤中漲逾100點，S&amp;P 500指數幾乎持平，納斯達克指數走低。\" src=\"/pf/resources/images/icons/tw-appledaily/no_image.png?d=229\" style=\"height:auto;width:100%\"/></figure></div></figure><div class=\"box--hidden\"><div class=\"video-triangle-container\"><div class=\"video-triangle\"></div></div></div></div><div class=\"text-container box--margin-left-md box--margin-right-md\"><div class=\"grid flex text_brownish-grey font-size--13\"><div class=\"timestamp\">出版時間: 2021/06/02 00:21</div></div><div class=\"storycard-headline text_greyish-brown-two\"><span class=\"headline truncate truncate--3\">美股道瓊盤中漲逾百點　科技股走弱</span></div></div></a></div>, <div class=\"flex-feature after-ad\"><a class=\"story-card\" href=\"/supplement/20210602/QUKJC7FPBVFAZETPJANLZ5IIDY/\"><div class=\"image-container\"><figure><div class=\"image-container\" style=\"background-color:gainsboro\"><figure><img alt=\"missing promo\" src=\"/pf/resources/images/icons/tw-appledaily/no_image.png?d=229\" style=\"height:auto;width:100%\"/></figure></div></figure><div class=\"box--hidden\"><div class=\"video-triangle-container\"><div class=\"video-triangle\"></div></div></div></div><div class=\"text-container box--margin-left-md box--margin-right-md\"><div class=\"grid flex text_brownish-grey font-size--13\"><div class=\"timestamp\">出版時間: 2021/06/02 00:19</div></div><div class=\"storycard-headline text_greyish-brown-two\"><span class=\"headline truncate truncate--3\">在家過節｜端午禁忌不能說這句　轉運超前部署</span></div></div></a></div>, <div class=\"flex-feature\"><a class=\"story-card\" href=\"/international/20210602/T6ZKA7MFANFMBCQ6NQH7477UTI/\"><div class=\"image-container\"><figure><div class=\"image-container\" style=\"background-color:gainsboro\"><figure><img alt=\"missing promo\" src=\"/pf/resources/images/icons/tw-appledaily/no_image.png?d=229\" style=\"height:auto;width:100%\"/></figure></div></figure><div class=\"video-icon\"><div class=\"video-triangle-container\"><div class=\"video-triangle\"></div></div></div></div><div class=\"text-container box--margin-left-md box--margin-right-md\"><div class=\"grid flex text_brownish-grey font-size--13\"><div class=\"timestamp\">出版時間: 2021/06/02 00:16</div></div><div class=\"storycard-headline text_greyish-brown-two\"><span class=\"headline truncate truncate--3\">美眉打疫苗就是要露奶　強國人看呆：捲袖子接種會復發？</span></div></div></a></div>, <div class=\"flex-feature\"><a class=\"story-card\" href=\"/politics/20210602/E753ZLQP4FF65JEHDWKJNWQ3OA/\"><div class=\"image-container\"><figure><div class=\"image-container\" style=\"background-color:gainsboro\"><figure><img alt=\"台灣基進黨新聞輿情部主任張博洋接獲民眾投訴指還有藍營地方政治人物擬偷偷到醫院打疫苗。台灣基進黨提供\" src=\"/pf/resources/images/icons/tw-appledaily/no_image.png?d=229\" style=\"height:auto;width:100%\"/></figure></div></figure><div class=\"box--hidden\"><div class=\"video-triangle-container\"><div class=\"video-triangle\"></div></div></div></div><div class=\"text-container box--margin-left-md box--margin-right-md\"><div class=\"grid flex text_brownish-grey font-size--13\"><div class=\"timestamp\">出版時間: 2021/06/02 00:16</div></div><div class=\"storycard-headline text_greyish-brown-two\"><span class=\"headline truncate truncate--3\">特權疫苗｜台灣基進再爆高市藍營暗排接種　醫院駁斥：不可能</span></div></div></a></div>, <div class=\"flex-feature\"><a class=\"story-card\" href=\"/local/20210602/Q57UEDDADBEATHGDPDD5YR4LIM/\"><div class=\"image-container\"><figure><div class=\"image-container\" style=\"background-color:gainsboro\"><figure><img alt=\"王薇君比出中指，抨擊黃昭順、朱學恒和砍傷醫護的確診者。翻攝自王薇君的臉書\" src=\"/pf/resources/images/icons/tw-appledaily/no_image.png?d=229\" style=\"height:auto;width:100%\"/></figure></div></figure><div class=\"box--hidden\"><div class=\"video-triangle-container\"><div class=\"video-triangle\"></div></div></div></div><div class=\"text-container box--margin-left-md box--margin-right-md\"><div class=\"grid flex text_brownish-grey font-size--13\"><div class=\"timestamp\">出版時間: 2021/06/02 00:16</div></div><div class=\"storycard-headline text_greyish-brown-two\"><span class=\"headline truncate truncate--3\">王薇君怒比中指開嗆這3人　「從疫情看見人性之惡」</span></div></div></a></div>, <div class=\"flex-feature\"><a class=\"story-card\" href=\"/politics/20210602/U7RPJB662NB75I2WLBUH4PAUEY/\"><div class=\"image-container\"><figure><div class=\"image-container\" style=\"background-color:gainsboro\"><figure><img alt=\"宅神朱學恒送花籃到疾管署開嗆指揮中心。翻攝自朱學恒的臉書\" src=\"/pf/resources/images/icons/tw-appledaily/no_image.png?d=229\" style=\"height:auto;width:100%\"/></figure></div></figure><div class=\"box--hidden\"><div class=\"video-triangle-container\"><div class=\"video-triangle\"></div></div></div></div><div class=\"text-container box--margin-left-md box--margin-right-md\"><div class=\"grid flex text_brownish-grey font-size--13\"><div class=\"timestamp\">出版時間: 2021/06/02 00:16</div></div><div class=\"storycard-headline text_greyish-brown-two\"><span class=\"headline truncate truncate--3\">白花「詛咒」爭議　宅神譏綠營：一般花籃和告別式都分不清楚</span></div></div></a></div>]\n"
     ]
    }
   ],
   "source": [
    "title = soup.find_all('div', class_='flex-feature')\n",
    "print(title)"
   ]
  },
  {
   "cell_type": "code",
   "execution_count": 94,
   "metadata": {},
   "outputs": [
    {
     "name": "stdout",
     "output_type": "stream",
     "text": [
      "['獨家｜連鎖早餐店長自爆全家4人確診\\u3000向這10天來客致歉', '上市公司員工去年薪資排行出爐！這公司年領419萬居冠\\u3000台積電239萬排18名', '柯文哲一句「蔡英文高端跌停才出來」\\u3000總統府898字聲明反擊了', '假消息竟一語成讖！\\u3000陳其邁端午節前率先喊話：北漂遊子別回家', '全公司在家上班付全薪！親戚都想來\\u3000486先生：直接拒絕不錄用', '獨家｜紓困金來了！160萬人有機會\\u30003原則定調：領的人增多、門檻降低、錢變少於3萬', '爆郭董BNT疫苗「聽說快過期」\\u3000李秉穎改稱：是口誤', '獨家｜驚！離岸風電外商竟以破產為由出售股權\\u3000經部被迫放行', '王薇君怒比中指開嗆這3人\\u3000「從疫情看見人性之惡」', '疫苗進口大轉彎？他說全因菅義偉、星雲和郭台銘「蔡英文得罪不起」', '高雄疫情｜大寮家族第7人發病\\u3000連鎖早餐店入夜自爆確診！官網致歉來客將被快篩', '為何願打國產疫苗？\\u3000黃暐瀚：總統都敢打了，我有什麼好怕', '新北疫情｜紓困小確幸周五入帳\\u30007萬4千戶受惠  ', '宅神送花籃嗆指揮中心\\u3000台灣基進：黃泉之下，有很多人看著你的！', '6/1全球疫苗快訊｜世衛批准科興疫苗使用\\u3000AZ疫苗對英國變種病毒保護率逾90％\\u3000', '獨居七旬婦病死三月屍臭瀰漫\\u3000腰部以上被寵物貓啃光', '疫苗申請函僅百字就要打通關\\u3000網友傻眼：是當聖旨哦', '獨家｜天龍最高學府4人群聚！無症狀感染走遍宿舍\\u3000300生共用衛浴恐中招', '頭皮發麻！生菜吃了3天\\u3000正妹驚見袋中青蛙與她對望', '獨家｜郭台銘出手！八大關鍵文件速備齊\\u3000陳時中接招拼3天審查', '確診者砍3醫護｜惡男狂言「有留活命給她們很好了！」\\u3000網斥畜生不如醫怒籲嚴懲', '鴻海採購德製BNT疫苗\\u3000上海復星獨家代理晾一邊\\u3000', '德基水庫水位升4公尺進帳快翻倍\\u3000久違溪水回來了！軍民開車搶接山泉', '國產疫苗輸國外疫苗？權威醫7點釋疑\\u3000爆郭董BNT疫苗「聽說快過期」', '驚！淘寶代付網「幫幫寶」地下匯兌700億\\u3000主嫌曾當警察', '遭台大醫指郭台銘疫苗快過期\\u3000劉宥彤爆氣4點反擊', '獨家｜3大門派聞聲救苦！慈濟拼下月買到疫苗\\u3000佛光山今洽嬌生原廠、紅會暗中探詢', '蘋果直擊｜南投一攤擠5人！分流買菜這市場沒在管\\u3000上午8點人滿為患', '獨家直擊｜這銀行2確診照常開門\\u3000民眾見行員「全副武裝」嚇到：以為在醫院', '不甩邁邁勸：要忍耐\\u30005男1女躲朋友家中玩麻將被逮', '獨家｜大規模接種計畫曝光！7天打100萬劑\\u3000徵召診所、學校活動中心設快速接種站\\u3000', '獨家｜郭台銘出手！八大關鍵文件速備齊\\u3000陳時中接招拼3天審查', '美股道瓊盤中漲逾百點\\u3000科技股走弱', '在家過節｜端午禁忌不能說這句\\u3000轉運超前部署', '美眉打疫苗就是要露奶\\u3000強國人看呆：捲袖子接種會復發？', '特權疫苗｜台灣基進再爆高市藍營暗排接種\\u3000醫院駁斥：不可能', '王薇君怒比中指開嗆這3人\\u3000「從疫情看見人性之惡」', '白花「詛咒」爭議\\u3000宅神譏綠營：一般花籃和告別式都分不清楚']\n"
     ]
    }
   ],
   "source": [
    "titles = [t.find('span').text for t in title]\n",
    "print(titles)"
   ]
  },
  {
   "cell_type": "code",
   "execution_count": 119,
   "metadata": {},
   "outputs": [
    {
     "name": "stdout",
     "output_type": "stream",
     "text": [
      "[]\n"
     ]
    }
   ],
   "source": [
    "all_a = soup.find_all('a','herf')\n",
    "print(all_a)"
   ]
  },
  {
   "cell_type": "raw",
   "metadata": {},
   "source": []
  },
  {
   "cell_type": "code",
   "execution_count": 123,
   "metadata": {},
   "outputs": [
    {
     "name": "stdout",
     "output_type": "stream",
     "text": [
      "['/realtime/us/', '/realtime/new/', '/realtime/recommend/', '/realtime/hot/', '/realtime/entertainment/', '/realtime/local/', '/realtime/life/', '/realtime/property/', '/realtime/anti-epidemic-life/', '/realtime/international/', '/realtime/politics/', '/realtime/topic/', '/realtime/micromovie/', '/realtime/gadget/', '/realtime/supplement/', '/realtime/sports/', '/realtime/column/', '/realtime/reporter/', '/realtime/forum/', '/realtime/family/', '/realtime/pet/', '/video/new/', '/video/hot/', '/video/politics/', '/video/entertainment/', '/video/life/', '/video/local/', '/video/international/', '/video/micromovie/', '/video/finance/', '/video/gadget/', '/video/supplement/', '/video/sports/', '/archive', '/realtime/new/', '/realtime/new/', '/realtime/recommend/', '/realtime/hot/', '/realtime/entertainment/', '/realtime/local/', '/realtime/life/', '/realtime/property/', '/realtime/anti-epidemic-life/', '/realtime/international/', '/realtime/politics/', '/realtime/topic/', '/realtime/micromovie/', '/realtime/gadget/', '/realtime/supplement/', '/realtime/sports/', '/realtime/column/', '/realtime/reporter/', '/realtime/forum/', '/realtime/family/', '/realtime/pet/', '/video/new/', '/video/new/', '/video/hot/', '/video/politics/', '/video/entertainment/', '/video/life/', '/video/local/', '/video/international/', '/video/micromovie/', '/video/finance/', '/video/gadget/', '/video/supplement/', '/video/sports/', '/archive', '/local/20210602/2ZM5WWOXI5CQZASKJE4CIPOWLY/', '/life/20210602/RH6G3TDO4ZGNTLTMUA3A3X3XME/', '/life/20210602/BJ2WXMH6JJABRIIW52WQ7STL6A/', '/politics/20210602/E753ZLQP4FF65JEHDWKJNWQ3OA/', '/life/20210602/BWTH56N4L5HD5IBVT42T3B2G5Q/', '/life/20210602/M7P26HHHY5HUTDYM2YVAIMKXQQ/', '/life/20210602/JMN6JZXMPJCQXDNLW37IVNTKBE/', '/life/20210602/K24MYIHEYZCPFETHNIZF5K3D2Y/', '/life/20210602/NX3K3EAI7NFDFDWRYPXYDI2PT4/', '/politics/20210602/JOXVG6IRO5B5RFBWYFS2RD3OHA/', '/life/20210601/2EUILOQJ2NHDZGNYKSNAAUWMWQ/', '/property/20210601/B4V62JFH2BC6PDI6OUUBKGCZCI/', '/politics/20210601/FUCEF7XZ6VEDJLOWLK3GXUIB3E/', '/life/20210601/OHU4M2UJ2ZHIXF7QF2PN3DIJIM/', '/life/20210601/KJXVKZ7FJZHNPNQCM6XE73RDSU/', '/life/20210602/NX3K3EAI7NFDFDWRYPXYDI2PT4/', '/politics/20210601/KZX3JYDURZH7PHP7TJNCBG5TCM/', '/property/20210601/DODUXTN22BFZVCWSOORBIDTL2E/', '/local/20210602/Q57UEDDADBEATHGDPDD5YR4LIM/', '/life/20210601/FM2HPZAZXVHP5PAD4HIYI272HQ/', '/life/20210601/4USU4RF5J5EZZC5XRP2P5XUOSE/', '/politics/20210601/357NTAE4YZDFBND33JXZSUQV2Q/', '/life/20210601/DAUXP3YOLBGJBJAYT5GIPRUEUM/', '/politics/20210601/BBROHCTKDFBTLK43Z3RPCFK3PM/', '/international/20210601/VKHKQ3NY55DWDOIN4GJRDT3HSU/', '/international/20210601/2SRRF7X6HBGIJM2G5O5NCAVVKM/', '/life/20210601/UX5HF7BXGNE7TIYIJGWNIU3COM/', '/life/20210602/BJ2WXMH6JJABRIIW52WQ7STL6A/', '/international/20210601/IUWBGBGXJRHCJDLELQXRK7EHUE/', '/life/20210602/JMN6JZXMPJCQXDNLW37IVNTKBE/', '/local/20210601/33AUDVIZL5CVZHZRCHDRXC3FBA/', '/life/20210601/WTGJLDKPFJFC3DOXCMDB3NO2DI/', '/life/20210601/LY35KP4YTBFIRGAUNJUZHMPTQA/', '/life/20210601/YGKCBIM3DREHTLEHXNEZEJVEUA/', '/local/20210601/3XDM3UHLJ5DRDNXUWH2HI2H62I/', '/property/20210601/LFHEIVJGLBCL5AVQ5GBLZH66KY/', '/life/20210602/K24MYIHEYZCPFETHNIZF5K3D2Y/', '/life/20210601/T2PFD6WQIVCNJGD4PXVLUHUARM/', '/property/20210601/U2IZMJPQTJFQTPCHJ5XSDOEHIU/', '/local/20210601/CO5WW5ZTA5CXPGP4D4YJ3DQBVE/', '/life/20210602/BWTH56N4L5HD5IBVT42T3B2G5Q/', '/life/20210602/JMN6JZXMPJCQXDNLW37IVNTKBE/', '/property/20210602/NCDOWMF4GVFEDM4EZQBALUJRME/', '/supplement/20210602/QUKJC7FPBVFAZETPJANLZ5IIDY/', '/international/20210602/T6ZKA7MFANFMBCQ6NQH7477UTI/', '/politics/20210602/E753ZLQP4FF65JEHDWKJNWQ3OA/', '/local/20210602/Q57UEDDADBEATHGDPDD5YR4LIM/', '/politics/20210602/U7RPJB662NB75I2WLBUH4PAUEY/']\n"
     ]
    }
   ],
   "source": [
    "urlptn = r\"/(.+)\" \n",
    "urls = [re.match(urlptn, str(_)) for _ in result]\n",
    "while None in urls:\n",
    "    urls.remove(None)\n",
    "urls = [_.group() for _ in urls]\n",
    "print(urls)"
   ]
  },
  {
   "cell_type": "code",
   "execution_count": 133,
   "metadata": {},
   "outputs": [
    {
     "name": "stdout",
     "output_type": "stream",
     "text": [
      "['https://tw.appledaily.com/life/20210601/2EUILOQJ2NHDZGNYKSNAAUWMWQ/', 'https://tw.appledaily.com/property/20210601/B4V62JFH2BC6PDI6OUUBKGCZCI/', 'https://tw.appledaily.com/politics/20210601/FUCEF7XZ6VEDJLOWLK3GXUIB3E/', 'https://tw.appledaily.com/life/20210601/OHU4M2UJ2ZHIXF7QF2PN3DIJIM/', 'https://tw.appledaily.com/life/20210601/KJXVKZ7FJZHNPNQCM6XE73RDSU/', 'https://tw.appledaily.com/life/20210602/NX3K3EAI7NFDFDWRYPXYDI2PT4/', 'https://tw.appledaily.com/politics/20210601/KZX3JYDURZH7PHP7TJNCBG5TCM/', 'https://tw.appledaily.com/property/20210601/DODUXTN22BFZVCWSOORBIDTL2E/', 'https://tw.appledaily.com/local/20210602/Q57UEDDADBEATHGDPDD5YR4LIM/', 'https://tw.appledaily.com/life/20210601/FM2HPZAZXVHP5PAD4HIYI272HQ/', 'https://tw.appledaily.com/life/20210601/4USU4RF5J5EZZC5XRP2P5XUOSE/', 'https://tw.appledaily.com/politics/20210601/357NTAE4YZDFBND33JXZSUQV2Q/', 'https://tw.appledaily.com/life/20210601/DAUXP3YOLBGJBJAYT5GIPRUEUM/', 'https://tw.appledaily.com/politics/20210601/BBROHCTKDFBTLK43Z3RPCFK3PM/', 'https://tw.appledaily.com/international/20210601/VKHKQ3NY55DWDOIN4GJRDT3HSU/', 'https://tw.appledaily.com/international/20210601/2SRRF7X6HBGIJM2G5O5NCAVVKM/', 'https://tw.appledaily.com/life/20210601/UX5HF7BXGNE7TIYIJGWNIU3COM/', 'https://tw.appledaily.com/life/20210602/BJ2WXMH6JJABRIIW52WQ7STL6A/', 'https://tw.appledaily.com/international/20210601/IUWBGBGXJRHCJDLELQXRK7EHUE/', 'https://tw.appledaily.com/life/20210602/JMN6JZXMPJCQXDNLW37IVNTKBE/', 'https://tw.appledaily.com/local/20210601/33AUDVIZL5CVZHZRCHDRXC3FBA/', 'https://tw.appledaily.com/life/20210601/WTGJLDKPFJFC3DOXCMDB3NO2DI/', 'https://tw.appledaily.com/life/20210601/LY35KP4YTBFIRGAUNJUZHMPTQA/', 'https://tw.appledaily.com/life/20210601/YGKCBIM3DREHTLEHXNEZEJVEUA/', 'https://tw.appledaily.com/local/20210601/3XDM3UHLJ5DRDNXUWH2HI2H62I/', 'https://tw.appledaily.com/property/20210601/LFHEIVJGLBCL5AVQ5GBLZH66KY/', 'https://tw.appledaily.com/life/20210602/K24MYIHEYZCPFETHNIZF5K3D2Y/', 'https://tw.appledaily.com/life/20210601/T2PFD6WQIVCNJGD4PXVLUHUARM/', 'https://tw.appledaily.com/property/20210601/U2IZMJPQTJFQTPCHJ5XSDOEHIU/', 'https://tw.appledaily.com/local/20210601/CO5WW5ZTA5CXPGP4D4YJ3DQBVE/', 'https://tw.appledaily.com/life/20210602/BWTH56N4L5HD5IBVT42T3B2G5Q/', 'https://tw.appledaily.com/life/20210602/JMN6JZXMPJCQXDNLW37IVNTKBE/', 'https://tw.appledaily.com/property/20210602/NCDOWMF4GVFEDM4EZQBALUJRME/', 'https://tw.appledaily.com/supplement/20210602/QUKJC7FPBVFAZETPJANLZ5IIDY/', 'https://tw.appledaily.com/international/20210602/T6ZKA7MFANFMBCQ6NQH7477UTI/', 'https://tw.appledaily.com/politics/20210602/E753ZLQP4FF65JEHDWKJNWQ3OA/', 'https://tw.appledaily.com/local/20210602/Q57UEDDADBEATHGDPDD5YR4LIM/', 'https://tw.appledaily.com/politics/20210602/U7RPJB662NB75I2WLBUH4PAUEY/']\n"
     ]
    }
   ],
   "source": [
    "newUrls = [requests.get(t.find('a')['href'].replace('/','https://tw.appledaily.com/',1)).url for t in title]\n",
    "print(newUrls)"
   ]
  },
  {
   "cell_type": "code",
   "execution_count": 134,
   "metadata": {},
   "outputs": [
    {
     "name": "stdout",
     "output_type": "stream",
     "text": [
      "                                                  URL\n",
      "0   https://tw.appledaily.com/life/20210601/2EUILO...\n",
      "1   https://tw.appledaily.com/property/20210601/B4...\n",
      "2   https://tw.appledaily.com/politics/20210601/FU...\n",
      "3   https://tw.appledaily.com/life/20210601/OHU4M2...\n",
      "4   https://tw.appledaily.com/life/20210601/KJXVKZ...\n",
      "5   https://tw.appledaily.com/life/20210602/NX3K3E...\n",
      "6   https://tw.appledaily.com/politics/20210601/KZ...\n",
      "7   https://tw.appledaily.com/property/20210601/DO...\n",
      "8   https://tw.appledaily.com/local/20210602/Q57UE...\n",
      "9   https://tw.appledaily.com/life/20210601/FM2HPZ...\n",
      "10  https://tw.appledaily.com/life/20210601/4USU4R...\n",
      "11  https://tw.appledaily.com/politics/20210601/35...\n",
      "12  https://tw.appledaily.com/life/20210601/DAUXP3...\n",
      "13  https://tw.appledaily.com/politics/20210601/BB...\n",
      "14  https://tw.appledaily.com/international/202106...\n",
      "15  https://tw.appledaily.com/international/202106...\n",
      "16  https://tw.appledaily.com/life/20210601/UX5HF7...\n",
      "17  https://tw.appledaily.com/life/20210602/BJ2WXM...\n",
      "18  https://tw.appledaily.com/international/202106...\n",
      "19  https://tw.appledaily.com/life/20210602/JMN6JZ...\n",
      "20  https://tw.appledaily.com/local/20210601/33AUD...\n",
      "21  https://tw.appledaily.com/life/20210601/WTGJLD...\n",
      "22  https://tw.appledaily.com/life/20210601/LY35KP...\n",
      "23  https://tw.appledaily.com/life/20210601/YGKCBI...\n",
      "24  https://tw.appledaily.com/local/20210601/3XDM3...\n",
      "25  https://tw.appledaily.com/property/20210601/LF...\n",
      "26  https://tw.appledaily.com/life/20210602/K24MYI...\n",
      "27  https://tw.appledaily.com/life/20210601/T2PFD6...\n",
      "28  https://tw.appledaily.com/property/20210601/U2...\n",
      "29  https://tw.appledaily.com/local/20210601/CO5WW...\n",
      "30  https://tw.appledaily.com/life/20210602/BWTH56...\n",
      "31  https://tw.appledaily.com/life/20210602/JMN6JZ...\n",
      "32  https://tw.appledaily.com/property/20210602/NC...\n",
      "33  https://tw.appledaily.com/supplement/20210602/...\n",
      "34  https://tw.appledaily.com/international/202106...\n",
      "35  https://tw.appledaily.com/politics/20210602/E7...\n",
      "36  https://tw.appledaily.com/local/20210602/Q57UE...\n",
      "37  https://tw.appledaily.com/politics/20210602/U7...\n"
     ]
    }
   ],
   "source": [
    "df0 = pd.DataFrame({'URL': newUrls})\n",
    "print(df0)"
   ]
  },
  {
   "cell_type": "code",
   "execution_count": 109,
   "metadata": {},
   "outputs": [
    {
     "name": "stdout",
     "output_type": "stream",
     "text": [
      "                                        title\n",
      "0                 獨家｜連鎖早餐店長自爆全家4人確診　向這10天來客致歉\n",
      "1      上市公司員工去年薪資排行出爐！這公司年領419萬居冠　台積電239萬排18名\n",
      "2              柯文哲一句「蔡英文高端跌停才出來」　總統府898字聲明反擊了\n",
      "3               假消息竟一語成讖！　陳其邁端午節前率先喊話：北漂遊子別回家\n",
      "4              全公司在家上班付全薪！親戚都想來　486先生：直接拒絕不錄用\n",
      "5   獨家｜紓困金來了！160萬人有機會　3原則定調：領的人增多、門檻降低、錢變少於3萬\n",
      "6                   爆郭董BNT疫苗「聽說快過期」　李秉穎改稱：是口誤\n",
      "7                獨家｜驚！離岸風電外商竟以破產為由出售股權　經部被迫放行\n",
      "8                    王薇君怒比中指開嗆這3人　「從疫情看見人性之惡」\n",
      "9             疫苗進口大轉彎？他說全因菅義偉、星雲和郭台銘「蔡英文得罪不起」\n",
      "10      高雄疫情｜大寮家族第7人發病　連鎖早餐店入夜自爆確診！官網致歉來客將被快篩\n",
      "11                為何願打國產疫苗？　黃暐瀚：總統都敢打了，我有什麼好怕\n",
      "12                   新北疫情｜紓困小確幸周五入帳　7萬4千戶受惠  \n",
      "13             宅神送花籃嗆指揮中心　台灣基進：黃泉之下，有很多人看著你的！\n",
      "14   6/1全球疫苗快訊｜世衛批准科興疫苗使用　AZ疫苗對英國變種病毒保護率逾90％　\n",
      "15                   獨居七旬婦病死三月屍臭瀰漫　腰部以上被寵物貓啃光\n",
      "16                   疫苗申請函僅百字就要打通關　網友傻眼：是當聖旨哦\n",
      "17        獨家｜天龍最高學府4人群聚！無症狀感染走遍宿舍　300生共用衛浴恐中招\n",
      "18                   頭皮發麻！生菜吃了3天　正妹驚見袋中青蛙與她對望\n",
      "19              獨家｜郭台銘出手！八大關鍵文件速備齊　陳時中接招拼3天審查\n",
      "20      確診者砍3醫護｜惡男狂言「有留活命給她們很好了！」　網斥畜生不如醫怒籲嚴懲\n",
      "21                   鴻海採購德製BNT疫苗　上海復星獨家代理晾一邊　\n",
      "22           德基水庫水位升4公尺進帳快翻倍　久違溪水回來了！軍民開車搶接山泉\n",
      "23          國產疫苗輸國外疫苗？權威醫7點釋疑　爆郭董BNT疫苗「聽說快過期」\n",
      "24                驚！淘寶代付網「幫幫寶」地下匯兌700億　主嫌曾當警察\n",
      "25                    遭台大醫指郭台銘疫苗快過期　劉宥彤爆氣4點反擊\n",
      "26     獨家｜3大門派聞聲救苦！慈濟拼下月買到疫苗　佛光山今洽嬌生原廠、紅會暗中探詢\n",
      "27           蘋果直擊｜南投一攤擠5人！分流買菜這市場沒在管　上午8點人滿為患\n",
      "28        獨家直擊｜這銀行2確診照常開門　民眾見行員「全副武裝」嚇到：以為在醫院\n",
      "29                   不甩邁邁勸：要忍耐　5男1女躲朋友家中玩麻將被逮\n",
      "30   獨家｜大規模接種計畫曝光！7天打100萬劑　徵召診所、學校活動中心設快速接種站　\n",
      "31              獨家｜郭台銘出手！八大關鍵文件速備齊　陳時中接招拼3天審查\n",
      "32                           美股道瓊盤中漲逾百點　科技股走弱\n",
      "33                      在家過節｜端午禁忌不能說這句　轉運超前部署\n",
      "34                 美眉打疫苗就是要露奶　強國人看呆：捲袖子接種會復發？\n",
      "35               特權疫苗｜台灣基進再爆高市藍營暗排接種　醫院駁斥：不可能\n",
      "36                   王薇君怒比中指開嗆這3人　「從疫情看見人性之惡」\n",
      "37               白花「詛咒」爭議　宅神譏綠營：一般花籃和告別式都分不清楚\n"
     ]
    }
   ],
   "source": [
    "df = pd.DataFrame({'title': titles})\n",
    "print(df)"
   ]
  },
  {
   "cell_type": "code",
   "execution_count": 135,
   "metadata": {},
   "outputs": [
    {
     "name": "stdout",
     "output_type": "stream",
     "text": [
      "                                        title  \\\n",
      "0                 獨家｜連鎖早餐店長自爆全家4人確診　向這10天來客致歉   \n",
      "1      上市公司員工去年薪資排行出爐！這公司年領419萬居冠　台積電239萬排18名   \n",
      "2              柯文哲一句「蔡英文高端跌停才出來」　總統府898字聲明反擊了   \n",
      "3               假消息竟一語成讖！　陳其邁端午節前率先喊話：北漂遊子別回家   \n",
      "4              全公司在家上班付全薪！親戚都想來　486先生：直接拒絕不錄用   \n",
      "5   獨家｜紓困金來了！160萬人有機會　3原則定調：領的人增多、門檻降低、錢變少於3萬   \n",
      "6                   爆郭董BNT疫苗「聽說快過期」　李秉穎改稱：是口誤   \n",
      "7                獨家｜驚！離岸風電外商竟以破產為由出售股權　經部被迫放行   \n",
      "8                    王薇君怒比中指開嗆這3人　「從疫情看見人性之惡」   \n",
      "9             疫苗進口大轉彎？他說全因菅義偉、星雲和郭台銘「蔡英文得罪不起」   \n",
      "10      高雄疫情｜大寮家族第7人發病　連鎖早餐店入夜自爆確診！官網致歉來客將被快篩   \n",
      "11                為何願打國產疫苗？　黃暐瀚：總統都敢打了，我有什麼好怕   \n",
      "12                   新北疫情｜紓困小確幸周五入帳　7萬4千戶受惠     \n",
      "13             宅神送花籃嗆指揮中心　台灣基進：黃泉之下，有很多人看著你的！   \n",
      "14   6/1全球疫苗快訊｜世衛批准科興疫苗使用　AZ疫苗對英國變種病毒保護率逾90％　   \n",
      "15                   獨居七旬婦病死三月屍臭瀰漫　腰部以上被寵物貓啃光   \n",
      "16                   疫苗申請函僅百字就要打通關　網友傻眼：是當聖旨哦   \n",
      "17        獨家｜天龍最高學府4人群聚！無症狀感染走遍宿舍　300生共用衛浴恐中招   \n",
      "18                   頭皮發麻！生菜吃了3天　正妹驚見袋中青蛙與她對望   \n",
      "19              獨家｜郭台銘出手！八大關鍵文件速備齊　陳時中接招拼3天審查   \n",
      "20      確診者砍3醫護｜惡男狂言「有留活命給她們很好了！」　網斥畜生不如醫怒籲嚴懲   \n",
      "21                   鴻海採購德製BNT疫苗　上海復星獨家代理晾一邊　   \n",
      "22           德基水庫水位升4公尺進帳快翻倍　久違溪水回來了！軍民開車搶接山泉   \n",
      "23          國產疫苗輸國外疫苗？權威醫7點釋疑　爆郭董BNT疫苗「聽說快過期」   \n",
      "24                驚！淘寶代付網「幫幫寶」地下匯兌700億　主嫌曾當警察   \n",
      "25                    遭台大醫指郭台銘疫苗快過期　劉宥彤爆氣4點反擊   \n",
      "26     獨家｜3大門派聞聲救苦！慈濟拼下月買到疫苗　佛光山今洽嬌生原廠、紅會暗中探詢   \n",
      "27           蘋果直擊｜南投一攤擠5人！分流買菜這市場沒在管　上午8點人滿為患   \n",
      "28        獨家直擊｜這銀行2確診照常開門　民眾見行員「全副武裝」嚇到：以為在醫院   \n",
      "29                   不甩邁邁勸：要忍耐　5男1女躲朋友家中玩麻將被逮   \n",
      "30   獨家｜大規模接種計畫曝光！7天打100萬劑　徵召診所、學校活動中心設快速接種站　   \n",
      "31              獨家｜郭台銘出手！八大關鍵文件速備齊　陳時中接招拼3天審查   \n",
      "32                           美股道瓊盤中漲逾百點　科技股走弱   \n",
      "33                      在家過節｜端午禁忌不能說這句　轉運超前部署   \n",
      "34                 美眉打疫苗就是要露奶　強國人看呆：捲袖子接種會復發？   \n",
      "35               特權疫苗｜台灣基進再爆高市藍營暗排接種　醫院駁斥：不可能   \n",
      "36                   王薇君怒比中指開嗆這3人　「從疫情看見人性之惡」   \n",
      "37               白花「詛咒」爭議　宅神譏綠營：一般花籃和告別式都分不清楚   \n",
      "\n",
      "                                                links  \n",
      "0   https://tw.appledaily.com/life/20210601/2EUILO...  \n",
      "1   https://tw.appledaily.com/property/20210601/B4...  \n",
      "2   https://tw.appledaily.com/politics/20210601/FU...  \n",
      "3   https://tw.appledaily.com/life/20210601/OHU4M2...  \n",
      "4   https://tw.appledaily.com/life/20210601/KJXVKZ...  \n",
      "5   https://tw.appledaily.com/life/20210602/NX3K3E...  \n",
      "6   https://tw.appledaily.com/politics/20210601/KZ...  \n",
      "7   https://tw.appledaily.com/property/20210601/DO...  \n",
      "8   https://tw.appledaily.com/local/20210602/Q57UE...  \n",
      "9   https://tw.appledaily.com/life/20210601/FM2HPZ...  \n",
      "10  https://tw.appledaily.com/life/20210601/4USU4R...  \n",
      "11  https://tw.appledaily.com/politics/20210601/35...  \n",
      "12  https://tw.appledaily.com/life/20210601/DAUXP3...  \n",
      "13  https://tw.appledaily.com/politics/20210601/BB...  \n",
      "14  https://tw.appledaily.com/international/202106...  \n",
      "15  https://tw.appledaily.com/international/202106...  \n",
      "16  https://tw.appledaily.com/life/20210601/UX5HF7...  \n",
      "17  https://tw.appledaily.com/life/20210602/BJ2WXM...  \n",
      "18  https://tw.appledaily.com/international/202106...  \n",
      "19  https://tw.appledaily.com/life/20210602/JMN6JZ...  \n",
      "20  https://tw.appledaily.com/local/20210601/33AUD...  \n",
      "21  https://tw.appledaily.com/life/20210601/WTGJLD...  \n",
      "22  https://tw.appledaily.com/life/20210601/LY35KP...  \n",
      "23  https://tw.appledaily.com/life/20210601/YGKCBI...  \n",
      "24  https://tw.appledaily.com/local/20210601/3XDM3...  \n",
      "25  https://tw.appledaily.com/property/20210601/LF...  \n",
      "26  https://tw.appledaily.com/life/20210602/K24MYI...  \n",
      "27  https://tw.appledaily.com/life/20210601/T2PFD6...  \n",
      "28  https://tw.appledaily.com/property/20210601/U2...  \n",
      "29  https://tw.appledaily.com/local/20210601/CO5WW...  \n",
      "30  https://tw.appledaily.com/life/20210602/BWTH56...  \n",
      "31  https://tw.appledaily.com/life/20210602/JMN6JZ...  \n",
      "32  https://tw.appledaily.com/property/20210602/NC...  \n",
      "33  https://tw.appledaily.com/supplement/20210602/...  \n",
      "34  https://tw.appledaily.com/international/202106...  \n",
      "35  https://tw.appledaily.com/politics/20210602/E7...  \n",
      "36  https://tw.appledaily.com/local/20210602/Q57UE...  \n",
      "37  https://tw.appledaily.com/politics/20210602/U7...  \n"
     ]
    }
   ],
   "source": [
    "df = pd.DataFrame(\n",
    "{\n",
    "    'title': titles,\n",
    "    'links': newUrls\n",
    "})\n",
    " \n",
    "print(df)"
   ]
  },
  {
   "cell_type": "code",
   "execution_count": null,
   "metadata": {},
   "outputs": [],
   "source": []
  }
 ],
 "metadata": {
  "kernelspec": {
   "display_name": "Python 3",
   "language": "python",
   "name": "python3"
  },
  "language_info": {
   "codemirror_mode": {
    "name": "ipython",
    "version": 3
   },
   "file_extension": ".py",
   "mimetype": "text/x-python",
   "name": "python",
   "nbconvert_exporter": "python",
   "pygments_lexer": "ipython3",
   "version": "3.8.5"
  }
 },
 "nbformat": 4,
 "nbformat_minor": 4
}
